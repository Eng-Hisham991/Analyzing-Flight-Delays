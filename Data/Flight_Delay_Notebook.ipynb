{
 "cells": [
  {
   "cell_type": "code",
   "execution_count": 10,
   "metadata": {},
   "outputs": [],
   "source": [
    "import pandas as pd"
   ]
  },
  {
   "cell_type": "code",
<<<<<<< HEAD
   "execution_count": 17,
   "metadata": {},
   "outputs": [],
   "source": [
    "df2009= pd.read_csv(\"./data/2009.csv\")\n",
    "df2018= pd.read_csv(\"./data/2018.csv\")"
=======
   "execution_count": 3,
   "metadata": {},
   "outputs": [],
   "source": [
    "df2009= pd.read_csv(\"data/2009.csv\")\n",
    "df2018= pd.read_csv(\"data/2018.csv\")"
>>>>>>> 3aab3ddbec4534f0d316b43c09979bb54a66e420
   ]
  },
  {
   "cell_type": "code",
<<<<<<< HEAD
   "execution_count": 18,
=======
   "execution_count": 4,
>>>>>>> 3aab3ddbec4534f0d316b43c09979bb54a66e420
   "metadata": {},
   "outputs": [],
   "source": [
    "df2009 = df2009.rename(columns = {\"FL_DATE\": \"Date\", \"OP_CARRIER\":\"Airline\",\"OP_CARRIER_FL_NUM\":\"Flight Number\", \n",
    "                       \"ORIGIN\":\"Origin\",\"DEST\":\"Dest\",\"DEP_DELAY\":\"Depart Delay\",\"ARR_DELAY\":\"Arrival Delay\",\"CANCELLED\":\"Cancelled\"})\n",
    "df2018 = df2018.rename(columns = {\"FL_DATE\": \"Date\", \"OP_CARRIER\":\"Airline\",\"OP_CARRIER_FL_NUM\":\"Flight Number\", \n",
    "                       \"ORIGIN\":\"Origin\",\"DEST\":\"Dest\",\"DEP_DELAY\":\"Depart Delay\",\"ARR_DELAY\":\"Arrival Delay\",\"CANCELLED\":\"Cancelled\"})"
   ]
  },
  {
   "cell_type": "code",
<<<<<<< HEAD
   "execution_count": 13,
=======
   "execution_count": 5,
>>>>>>> 3aab3ddbec4534f0d316b43c09979bb54a66e420
   "metadata": {},
   "outputs": [
    {
     "data": {
      "text/html": [
       "<div>\n",
       "<style scoped>\n",
       "    .dataframe tbody tr th:only-of-type {\n",
       "        vertical-align: middle;\n",
       "    }\n",
       "\n",
       "    .dataframe tbody tr th {\n",
       "        vertical-align: top;\n",
       "    }\n",
       "\n",
       "    .dataframe thead th {\n",
       "        text-align: right;\n",
       "    }\n",
       "</style>\n",
       "<table border=\"1\" class=\"dataframe\">\n",
       "  <thead>\n",
       "    <tr style=\"text-align: right;\">\n",
       "      <th></th>\n",
       "      <th>0</th>\n",
       "      <th>1</th>\n",
       "      <th>2</th>\n",
       "      <th>3</th>\n",
       "      <th>4</th>\n",
       "      <th>5</th>\n",
       "      <th>6</th>\n",
       "      <th>7</th>\n",
       "    </tr>\n",
       "  </thead>\n",
       "  <tbody>\n",
       "    <tr>\n",
       "      <td>0</td>\n",
       "      <td>1/1/09</td>\n",
       "      <td>XE</td>\n",
       "      <td>1212</td>\n",
       "      <td>ATL</td>\n",
       "      <td>EWR</td>\n",
       "      <td>-2.0</td>\n",
       "      <td>-19.0</td>\n",
       "      <td>0</td>\n",
       "    </tr>\n",
       "    <tr>\n",
       "      <td>1</td>\n",
       "      <td>1/1/09</td>\n",
       "      <td>XE</td>\n",
       "      <td>1232</td>\n",
       "      <td>ORD</td>\n",
       "      <td>EWR</td>\n",
       "      <td>-5.0</td>\n",
       "      <td>-22.0</td>\n",
       "      <td>0</td>\n",
       "    </tr>\n",
       "    <tr>\n",
       "      <td>2</td>\n",
       "      <td>1/1/09</td>\n",
       "      <td>XE</td>\n",
       "      <td>1234</td>\n",
       "      <td>ORD</td>\n",
       "      <td>EWR</td>\n",
       "      <td>4.0</td>\n",
       "      <td>-34.0</td>\n",
       "      <td>0</td>\n",
       "    </tr>\n",
       "    <tr>\n",
       "      <td>3</td>\n",
       "      <td>1/1/09</td>\n",
       "      <td>XE</td>\n",
       "      <td>1236</td>\n",
       "      <td>ORD</td>\n",
       "      <td>EWR</td>\n",
       "      <td>-11.0</td>\n",
       "      <td>-21.0</td>\n",
       "      <td>0</td>\n",
       "    </tr>\n",
       "    <tr>\n",
       "      <td>4</td>\n",
       "      <td>1/1/09</td>\n",
       "      <td>XE</td>\n",
       "      <td>2016</td>\n",
       "      <td>IAH</td>\n",
       "      <td>LCH</td>\n",
       "      <td>-6.0</td>\n",
       "      <td>6.0</td>\n",
       "      <td>0</td>\n",
       "    </tr>\n",
       "  </tbody>\n",
       "</table>\n",
       "</div>"
      ],
      "text/plain": [
       "        0   1     2    3    4     5     6  7\n",
       "0  1/1/09  XE  1212  ATL  EWR  -2.0 -19.0  0\n",
       "1  1/1/09  XE  1232  ORD  EWR  -5.0 -22.0  0\n",
       "2  1/1/09  XE  1234  ORD  EWR   4.0 -34.0  0\n",
       "3  1/1/09  XE  1236  ORD  EWR -11.0 -21.0  0\n",
       "4  1/1/09  XE  2016  IAH  LCH  -6.0   6.0  0"
      ]
     },
     "execution_count": 13,
     "metadata": {},
     "output_type": "execute_result"
    }
   ],
   "source": [
    "delaydf = [] \n",
    "\n",
    "for i in range(len(df2009)): \n",
    "    \n",
    "    if (df2009[\"Origin\"][i]) == \"LAX\" or (df2009[\"Origin\"][i]) == \"IAH\" or (df2009[\"Origin\"][i]) == \"JFK\" or (df2009[\"Origin\"][i]) == \"ORD\" or (df2009[\"Origin\"][i]) == \"ATL\":\n",
    "\n",
    "        delaydf.append([df2009['Date'][i],df2009['Airline'][i],df2009['Flight Number'][i], \n",
    "                    df2009['Origin'][i],df2009['Dest'][i],df2009['Depart Delay'][i], \n",
    "                    df2009['Arrival Delay'][i],df2009['Cancelled'][i]\n",
    "                   \n",
    "                   ]) \n",
    "\n",
    "\n",
    "Flight_df = pd.DataFrame(delaydf) \n",
    "Flight_df.head()"
   ]
  },
  {
   "cell_type": "code",
<<<<<<< HEAD
   "execution_count": 7,
=======
   "execution_count": 6,
>>>>>>> 3aab3ddbec4534f0d316b43c09979bb54a66e420
   "metadata": {},
   "outputs": [],
   "source": [
    "delaydf18 = [] \n",
    "\n",
    "for i in range(len(df2018)): \n",
    "    \n",
    "    if (df2018[\"Origin\"][i]) == \"LAX\" or (df2018[\"Origin\"][i]) == \"IAH\" or (df2018[\"Origin\"][i]) == \"JFK\" or (df2018[\"Origin\"][i]) == \"ORD\" or (df2018[\"Origin\"][i]) == \"ATL\":\n",
    "\n",
    "        delaydf18.append([df2018['Date'][i],df2018['Airline'][i],df2018['Flight Number'][i], \n",
    "                    df2018['Origin'][i],df2018['Dest'][i],df2018['Depart Delay'][i], \n",
    "                    df2018['Arrival Delay'][i],df2018['Cancelled'][i]\n",
    "                   \n",
    "                   ]) \n",
    "\n",
    "\n",
    "Flight_df18 = pd.DataFrame(delaydf18)\n",
    "Flight_df18.head()"
   ]
  },
  {
   "cell_type": "code",
<<<<<<< HEAD
   "execution_count": 24,
=======
   "execution_count": 10,
   "metadata": {},
   "outputs": [],
   "source": [
    "delaydfline = [] \n",
    "Flight_df= Flight_df.rename(columns = {0: \"Date\", 1:\"Airline\",2:\"Flight Number\", \n",
    "                       3:\"Origin\",4:\"Dest\",5:\"Depart Delay\",6:\"Arrival Delay\",7:\"Cancelled\"})\n",
    "\n",
    "\n",
    "\n",
    "for i in range(len(Flight_df)): \n",
    "    \n",
    "    if (Flight_df['Airline'][i]) == \"WN\" or (Flight_df['Airline'][i]) == \"DL\":\n",
    "\n",
    "        delaydfline.append([Flight_df['Date'][i],Flight_df['Airline'][i],Flight_df['Flight Number'][i], \n",
    "                    Flight_df['Origin'][i],Flight_df['Dest'][i],Flight_df['Depart Delay'][i], \n",
    "                   Flight_df['Arrival Delay'][i],Flight_df['Cancelled'][i]  \n",
    "                   ]) \n",
    "        \n",
    "flight_delay = pd.DataFrame(delaydfline) "
   ]
  },
  {
   "cell_type": "code",
   "execution_count": 11,
   "metadata": {},
   "outputs": [],
   "source": [
    "delaydfline18 = [] \n",
    "Flight_df18= Flight_df18.rename(columns = {0: \"Date\", 1:\"Airline\",2:\"Flight Number\", \n",
    "                       3:\"Origin\",4:\"Dest\",5:\"Depart Delay\",6:\"Arrival Delay\",7:\"Cancelled\"})\n",
    "\n",
    "\n",
    "\n",
    "for i in range(len(Flight_df18)): \n",
    "    \n",
    "    if (Flight_df18['Airline'][i]) == \"WN\" or (Flight_df18['Airline'][i]) == \"DL\":\n",
    "\n",
    "        delaydfline18.append([Flight_df18['Date'][i],Flight_df18['Airline'][i],Flight_df18['Flight Number'][i], \n",
    "                    Flight_df18['Origin'][i],Flight_df18['Dest'][i],Flight_df18['Depart Delay'][i], \n",
    "                   Flight_df18['Arrival Delay'][i],Flight_df18['Cancelled'][i]  \n",
    "                   ]) \n",
    "        \n",
    "flight_delay18 = pd.DataFrame(delaydfline18) "
   ]
  },
  {
   "cell_type": "code",
   "execution_count": 18,
   "metadata": {},
   "outputs": [],
   "source": [
    "flight_delay = flight_delay.rename(columns = {0: \"Date\", 1:\"Airline\",2:\"Flight Number\", \n",
    "                       3:\"Origin\",4:\"Dest\",5:\"Depart Delay\",6:\"Arrival Delay\",7:\"Cancelled\"})\n",
    "flight_delay18= flight_delay18.rename(columns = {0: \"Date\", 1:\"Airline\",2:\"Flight Number\", \n",
    "                       3:\"Origin\",4:\"Dest\",5:\"Depart Delay\",6:\"Arrival Delay\",7:\"Cancelled\"})"
   ]
  },
  {
   "cell_type": "code",
   "execution_count": 19,
>>>>>>> 3aab3ddbec4534f0d316b43c09979bb54a66e420
   "metadata": {},
   "outputs": [
    {
     "data": {
      "text/html": [
       "<div>\n",
       "<style scoped>\n",
       "    .dataframe tbody tr th:only-of-type {\n",
       "        vertical-align: middle;\n",
       "    }\n",
       "\n",
       "    .dataframe tbody tr th {\n",
       "        vertical-align: top;\n",
       "    }\n",
       "\n",
       "    .dataframe thead th {\n",
       "        text-align: right;\n",
       "    }\n",
       "</style>\n",
       "<table border=\"1\" class=\"dataframe\">\n",
       "  <thead>\n",
       "    <tr style=\"text-align: right;\">\n",
       "      <th></th>\n",
<<<<<<< HEAD
       "      <th>0</th>\n",
       "      <th>1</th>\n",
       "      <th>2</th>\n",
       "      <th>3</th>\n",
       "      <th>4</th>\n",
       "      <th>5</th>\n",
       "      <th>6</th>\n",
       "      <th>7</th>\n",
=======
       "      <th>Date</th>\n",
       "      <th>Airline</th>\n",
       "      <th>Flight Number</th>\n",
       "      <th>Origin</th>\n",
       "      <th>Dest</th>\n",
       "      <th>Depart Delay</th>\n",
       "      <th>Arrival Delay</th>\n",
       "      <th>Cancelled</th>\n",
>>>>>>> 3aab3ddbec4534f0d316b43c09979bb54a66e420
       "    </tr>\n",
       "  </thead>\n",
       "  <tbody>\n",
       "    <tr>\n",
       "      <td>0</td>\n",
       "      <td>1/1/09</td>\n",
<<<<<<< HEAD
       "      <td>XE</td>\n",
       "      <td>1212</td>\n",
       "      <td>ATL</td>\n",
       "      <td>EWR</td>\n",
       "      <td>-2.0</td>\n",
       "      <td>-19.0</td>\n",
=======
       "      <td>WN</td>\n",
       "      <td>102</td>\n",
       "      <td>LAX</td>\n",
       "      <td>ABQ</td>\n",
       "      <td>0.0</td>\n",
       "      <td>-5.0</td>\n",
>>>>>>> 3aab3ddbec4534f0d316b43c09979bb54a66e420
       "      <td>0</td>\n",
       "    </tr>\n",
       "    <tr>\n",
       "      <td>1</td>\n",
       "      <td>1/1/09</td>\n",
<<<<<<< HEAD
       "      <td>XE</td>\n",
       "      <td>1232</td>\n",
       "      <td>ORD</td>\n",
       "      <td>EWR</td>\n",
       "      <td>-5.0</td>\n",
       "      <td>-22.0</td>\n",
=======
       "      <td>WN</td>\n",
       "      <td>672</td>\n",
       "      <td>LAX</td>\n",
       "      <td>ABQ</td>\n",
       "      <td>-1.0</td>\n",
       "      <td>-9.0</td>\n",
>>>>>>> 3aab3ddbec4534f0d316b43c09979bb54a66e420
       "      <td>0</td>\n",
       "    </tr>\n",
       "    <tr>\n",
       "      <td>2</td>\n",
       "      <td>1/1/09</td>\n",
<<<<<<< HEAD
       "      <td>XE</td>\n",
       "      <td>1234</td>\n",
       "      <td>ORD</td>\n",
       "      <td>EWR</td>\n",
       "      <td>4.0</td>\n",
       "      <td>-34.0</td>\n",
=======
       "      <td>WN</td>\n",
       "      <td>851</td>\n",
       "      <td>LAX</td>\n",
       "      <td>ABQ</td>\n",
       "      <td>3.0</td>\n",
       "      <td>8.0</td>\n",
>>>>>>> 3aab3ddbec4534f0d316b43c09979bb54a66e420
       "      <td>0</td>\n",
       "    </tr>\n",
       "    <tr>\n",
       "      <td>3</td>\n",
       "      <td>1/1/09</td>\n",
<<<<<<< HEAD
       "      <td>XE</td>\n",
       "      <td>1236</td>\n",
       "      <td>ORD</td>\n",
       "      <td>EWR</td>\n",
       "      <td>-11.0</td>\n",
       "      <td>-21.0</td>\n",
=======
       "      <td>WN</td>\n",
       "      <td>1264</td>\n",
       "      <td>LAX</td>\n",
       "      <td>AUS</td>\n",
       "      <td>2.0</td>\n",
       "      <td>-6.0</td>\n",
>>>>>>> 3aab3ddbec4534f0d316b43c09979bb54a66e420
       "      <td>0</td>\n",
       "    </tr>\n",
       "    <tr>\n",
       "      <td>4</td>\n",
       "      <td>1/1/09</td>\n",
<<<<<<< HEAD
       "      <td>XE</td>\n",
       "      <td>2016</td>\n",
       "      <td>IAH</td>\n",
       "      <td>LCH</td>\n",
       "      <td>-6.0</td>\n",
       "      <td>6.0</td>\n",
=======
       "      <td>WN</td>\n",
       "      <td>476</td>\n",
       "      <td>LAX</td>\n",
       "      <td>BNA</td>\n",
       "      <td>2.0</td>\n",
       "      <td>7.0</td>\n",
       "      <td>0</td>\n",
       "    </tr>\n",
       "  </tbody>\n",
       "</table>\n",
       "</div>"
      ],
      "text/plain": [
       "     Date Airline  Flight Number Origin Dest  Depart Delay  Arrival Delay  \\\n",
       "0  1/1/09      WN            102    LAX  ABQ           0.0           -5.0   \n",
       "1  1/1/09      WN            672    LAX  ABQ          -1.0           -9.0   \n",
       "2  1/1/09      WN            851    LAX  ABQ           3.0            8.0   \n",
       "3  1/1/09      WN           1264    LAX  AUS           2.0           -6.0   \n",
       "4  1/1/09      WN            476    LAX  BNA           2.0            7.0   \n",
       "\n",
       "   Cancelled  \n",
       "0          0  \n",
       "1          0  \n",
       "2          0  \n",
       "3          0  \n",
       "4          0  "
      ]
     },
     "execution_count": 19,
     "metadata": {},
     "output_type": "execute_result"
    }
   ],
   "source": [
    "flight_delay.head()"
   ]
  },
  {
   "cell_type": "code",
   "execution_count": 20,
   "metadata": {},
   "outputs": [
    {
     "data": {
      "text/html": [
       "<div>\n",
       "<style scoped>\n",
       "    .dataframe tbody tr th:only-of-type {\n",
       "        vertical-align: middle;\n",
       "    }\n",
       "\n",
       "    .dataframe tbody tr th {\n",
       "        vertical-align: top;\n",
       "    }\n",
       "\n",
       "    .dataframe thead th {\n",
       "        text-align: right;\n",
       "    }\n",
       "</style>\n",
       "<table border=\"1\" class=\"dataframe\">\n",
       "  <thead>\n",
       "    <tr style=\"text-align: right;\">\n",
       "      <th></th>\n",
       "      <th>Date</th>\n",
       "      <th>Airline</th>\n",
       "      <th>Flight Number</th>\n",
       "      <th>Origin</th>\n",
       "      <th>Dest</th>\n",
       "      <th>Depart Delay</th>\n",
       "      <th>Arrival Delay</th>\n",
       "      <th>Cancelled</th>\n",
       "    </tr>\n",
       "  </thead>\n",
       "  <tbody>\n",
       "    <tr>\n",
       "      <td>0</td>\n",
       "      <td>1/1/18</td>\n",
       "      <td>WN</td>\n",
       "      <td>408</td>\n",
       "      <td>ATL</td>\n",
       "      <td>AUS</td>\n",
       "      <td>7.0</td>\n",
       "      <td>-8.0</td>\n",
       "      <td>0</td>\n",
       "    </tr>\n",
       "    <tr>\n",
       "      <td>1</td>\n",
       "      <td>1/1/18</td>\n",
       "      <td>WN</td>\n",
       "      <td>572</td>\n",
       "      <td>ATL</td>\n",
       "      <td>AUS</td>\n",
       "      <td>16.0</td>\n",
       "      <td>9.0</td>\n",
       "      <td>0</td>\n",
       "    </tr>\n",
       "    <tr>\n",
       "      <td>2</td>\n",
       "      <td>1/1/18</td>\n",
       "      <td>WN</td>\n",
       "      <td>1887</td>\n",
       "      <td>ATL</td>\n",
       "      <td>AUS</td>\n",
       "      <td>0.0</td>\n",
       "      <td>-4.0</td>\n",
       "      <td>0</td>\n",
       "    </tr>\n",
       "    <tr>\n",
       "      <td>3</td>\n",
       "      <td>1/1/18</td>\n",
       "      <td>WN</td>\n",
       "      <td>170</td>\n",
       "      <td>ATL</td>\n",
       "      <td>BOS</td>\n",
       "      <td>14.0</td>\n",
       "      <td>-7.0</td>\n",
       "      <td>0</td>\n",
       "    </tr>\n",
       "    <tr>\n",
       "      <td>4</td>\n",
       "      <td>1/1/18</td>\n",
       "      <td>WN</td>\n",
       "      <td>1633</td>\n",
       "      <td>ATL</td>\n",
       "      <td>BOS</td>\n",
       "      <td>198.0</td>\n",
       "      <td>208.0</td>\n",
>>>>>>> 3aab3ddbec4534f0d316b43c09979bb54a66e420
       "      <td>0</td>\n",
       "    </tr>\n",
       "  </tbody>\n",
       "</table>\n",
       "</div>"
      ],
      "text/plain": [
<<<<<<< HEAD
       "        0   1     2    3    4     5     6  7\n",
       "0  1/1/09  XE  1212  ATL  EWR  -2.0 -19.0  0\n",
       "1  1/1/09  XE  1232  ORD  EWR  -5.0 -22.0  0\n",
       "2  1/1/09  XE  1234  ORD  EWR   4.0 -34.0  0\n",
       "3  1/1/09  XE  1236  ORD  EWR -11.0 -21.0  0\n",
       "4  1/1/09  XE  2016  IAH  LCH  -6.0   6.0  0"
      ]
     },
     "execution_count": 24,
=======
       "     Date Airline  Flight Number Origin Dest  Depart Delay  Arrival Delay  \\\n",
       "0  1/1/18      WN            408    ATL  AUS           7.0           -8.0   \n",
       "1  1/1/18      WN            572    ATL  AUS          16.0            9.0   \n",
       "2  1/1/18      WN           1887    ATL  AUS           0.0           -4.0   \n",
       "3  1/1/18      WN            170    ATL  BOS          14.0           -7.0   \n",
       "4  1/1/18      WN           1633    ATL  BOS         198.0          208.0   \n",
       "\n",
       "   Cancelled  \n",
       "0          0  \n",
       "1          0  \n",
       "2          0  \n",
       "3          0  \n",
       "4          0  "
      ]
     },
     "execution_count": 20,
>>>>>>> 3aab3ddbec4534f0d316b43c09979bb54a66e420
     "metadata": {},
     "output_type": "execute_result"
    }
   ],
   "source": [
<<<<<<< HEAD
    "Flight_df.head()"
=======
    "flight_delay18.head()"
>>>>>>> 3aab3ddbec4534f0d316b43c09979bb54a66e420
   ]
  },
  {
   "cell_type": "code",
<<<<<<< HEAD
   "execution_count": 21,
   "metadata": {},
   "outputs": [],
   "source": [
    "flight_delay.to_csv('data/2009_Clean_Data.csv')\n",
    "flight_delay18.to_csv('data/2018_Clean_Data.csv')"
=======
<<<<<<< HEAD
   "execution_count": 25,
=======
   "execution_count": null,
>>>>>>> 3aab3ddbec4534f0d316b43c09979bb54a66e420
   "metadata": {},
   "outputs": [],
   "source": [
    "Flight_df = Flight_df.rename(columns = {\"0\": \"Date\", \"1\":\"Airline\",\"2\":\"Flight Number\", \n",
    "                       \"4\":\"Origin\",\"5\":\"Dest\",\"6\":\"Depart Delay\",\"7\":\"Arrival Delay\"})\n",
    "Flight_df18 = Flight_df18.rename(columns = {\"0\": \"Date\", \"1\":\"Airline\",\"2\":\"Flight Number\", \n",
    "                       \"4\":\"Origin\",\"5\":\"Dest\",\"6\":\"Depart Delay\",\"7\":\"Arrival Delay\"})"
>>>>>>> 202776d33820cb7485bc6cf7f56759dc4b2c30c5
   ]
  },
  {
   "cell_type": "code",
   "execution_count": null,
   "metadata": {},
   "outputs": [],
   "source": []
  }
 ],
 "metadata": {
  "kernelspec": {
   "display_name": "Python 3",
   "language": "python",
   "name": "python3"
  },
  "language_info": {
   "codemirror_mode": {
    "name": "ipython",
    "version": 3
   },
   "file_extension": ".py",
   "mimetype": "text/x-python",
   "name": "python",
   "nbconvert_exporter": "python",
   "pygments_lexer": "ipython3",
   "version": "3.7.4"
  }
 },
 "nbformat": 4,
 "nbformat_minor": 2
}
